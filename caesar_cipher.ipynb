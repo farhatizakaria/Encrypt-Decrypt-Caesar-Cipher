{
  "nbformat": 4,
  "nbformat_minor": 0,
  "metadata": {
    "colab": {
      "name": "caesar_cipher.ipynb",
      "provenance": [],
      "collapsed_sections": [],
      "authorship_tag": "ABX9TyNIviLSRhmsN0TnbS6Y85QP",
      "include_colab_link": true
    },
    "kernelspec": {
      "name": "python3",
      "display_name": "Python 3"
    }
  },
  "cells": [
    {
      "cell_type": "markdown",
      "metadata": {
        "id": "view-in-github",
        "colab_type": "text"
      },
      "source": [
        "<a href=\"https://colab.research.google.com/github/farhatizakaria/Encrypt-Decrypt-Caesar-Cipher/blob/master/caesar_cipher.ipynb\" target=\"_parent\"><img src=\"https://colab.research.google.com/assets/colab-badge.svg\" alt=\"Open In Colab\"/></a>"
      ]
    },
    {
      "cell_type": "markdown",
      "metadata": {
        "id": "Ft6fihEaBR3j",
        "colab_type": "text"
      },
      "source": [
        "> ENCRYPTION AND DECRYPTION USING CAESAR CIPHER\n",
        "\n"
      ]
    },
    {
      "cell_type": "code",
      "metadata": {
        "id": "n_TCBxIH-8B6",
        "colab_type": "code",
        "colab": {}
      },
      "source": [
        "from numpy import array\n",
        "letters = ['A','B','C','D','E','F','G',\n",
        "           'H','I','J','K','L','M','N','O','P',\n",
        "           'Q','R','S','T','U','V','W','X','Y','Z']"
      ],
      "execution_count": 0,
      "outputs": []
    },
    {
      "cell_type": "code",
      "metadata": {
        "id": "kdmxljts_JiS",
        "colab_type": "code",
        "outputId": "d58f4d9d-a1cf-48e2-b2f7-1124ec0554f0",
        "colab": {
          "base_uri": "https://localhost:8080/",
          "height": 91
        }
      },
      "source": [
        "word = 'ROOT'\n",
        "key = 4\n",
        "word_list = []\n",
        "for letter in word:\n",
        "  print(letters.index(letter))\n",
        "  word_list.append(letters.index(letter))"
      ],
      "execution_count": 4,
      "outputs": [
        {
          "output_type": "stream",
          "text": [
            "17\n",
            "14\n",
            "14\n",
            "19\n"
          ],
          "name": "stdout"
        }
      ]
    },
    {
      "cell_type": "markdown",
      "metadata": {
        "id": "HR6geR-Vb4bl",
        "colab_type": "text"
      },
      "source": [
        "> So we have to transfer these numbers accoring to the following equation\n",
        "`E = (L + K) mod26` \n",
        "E is the **the Result** of encrypting, L is the **Letter** that will encrypt it, K is the **Key**"
      ]
    },
    {
      "cell_type": "code",
      "metadata": {
        "colab_type": "code",
        "outputId": "3c62e4e7-194f-4468-cd56-288aa4a402c8",
        "id": "vzih42ZiccWE",
        "colab": {
          "base_uri": "https://localhost:8080/",
          "height": 109
        }
      },
      "source": [
        "word_list = array(word_list)\n",
        "print(word_list)\n",
        "encyptedWordList = (word_list + key) % 26\n",
        "for item in encyptedWordList:\n",
        "  print(letters[item])"
      ],
      "execution_count": 5,
      "outputs": [
        {
          "output_type": "stream",
          "text": [
            "[17 14 14 19]\n",
            "V\n",
            "S\n",
            "S\n",
            "X\n"
          ],
          "name": "stdout"
        }
      ]
    },
    {
      "cell_type": "markdown",
      "metadata": {
        "id": "PJ_Z3hEneZgd",
        "colab_type": "text"
      },
      "source": [
        ">***ROOT -> Key = 4 -> VSSX***"
      ]
    },
    {
      "cell_type": "markdown",
      "metadata": {
        "id": "esQDJAqgcgCq",
        "colab_type": "text"
      },
      "source": [
        "> As you see it's working so let's make a full function for **decrypting**"
      ]
    },
    {
      "cell_type": "code",
      "metadata": {
        "id": "yYmwm_Iqcm3R",
        "colab_type": "code",
        "colab": {}
      },
      "source": [
        "def decrypting(key):\n",
        "  assert(type(key) == int), ('The key should be an integer number')\n",
        "  try:\n",
        "    word = 'VSSX' # OUR WORD FOR DECRYPT IT\n",
        "    # But you can use 'input' function to take the word from user !!\n",
        "    word_list = []\n",
        "    for letter in word:\n",
        "      word_list.append(letters.index(letter))\n",
        "    word_list = array(word_list)\n",
        "    decryptedWordList = (word_list - key) % 26\n",
        "    for item in decryptedWordList:\n",
        "      print(letters[item])\n",
        "  except AssertionError as e:\n",
        "    print(e)\n"
      ],
      "execution_count": 0,
      "outputs": []
    },
    {
      "cell_type": "code",
      "metadata": {
        "id": "nDrIqSXzd4Wc",
        "colab_type": "code",
        "colab": {
          "base_uri": "https://localhost:8080/",
          "height": 91
        },
        "outputId": "1d577d41-6d8f-49cb-95f3-1dfcd5f2051d"
      },
      "source": [
        "decrypting(4)"
      ],
      "execution_count": 11,
      "outputs": [
        {
          "output_type": "stream",
          "text": [
            "R\n",
            "O\n",
            "O\n",
            "T\n"
          ],
          "name": "stdout"
        }
      ]
    },
    {
      "cell_type": "markdown",
      "metadata": {
        "id": "T4vMhrT8eRfJ",
        "colab_type": "text"
      },
      "source": [
        "> ***WSSX -> Key = 4 -> ROOT***"
      ]
    }
  ]
}